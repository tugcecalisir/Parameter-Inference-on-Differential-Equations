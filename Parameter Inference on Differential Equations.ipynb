{
 "cells": [
  {
   "cell_type": "markdown",
   "id": "bb78a67d",
   "metadata": {},
   "source": [
    "# Parameter Inference on Differential Equations\n",
    "\n",
    "We need to charge the package DifferentialEquations.jl and write our differential equation as a function.\n",
    "\n",
    "DiffEqFlux.jl is an implicit deep learning library built using the SciML ecosystem. \n",
    "\n",
    "Optim is a Julia package for optimizing functions of various kinds."
   ]
  },
  {
   "cell_type": "code",
   "execution_count": null,
   "id": "e1435eb7",
   "metadata": {},
   "outputs": [],
   "source": [
    "using Pkg\n",
    "Pkg.add(\"DifferentialEquations\")\n",
    "Pkg.add(\"Plots\")\n",
    "Pkg.add(\"DiffEqFlux\")\n",
    "Pkg.add(\"Optim\")"
   ]
  },
  {
   "cell_type": "code",
   "execution_count": null,
   "id": "773b6c51",
   "metadata": {},
   "outputs": [],
   "source": [
    "using DifferentialEquations"
   ]
  },
  {
   "cell_type": "code",
   "execution_count": null,
   "id": "677c3303",
   "metadata": {},
   "outputs": [],
   "source": [
    "using Plots; gr()"
   ]
  },
  {
   "cell_type": "code",
   "execution_count": null,
   "id": "9ba120ca",
   "metadata": {},
   "outputs": [],
   "source": [
    "using DiffEqFlux, Optim"
   ]
  },
  {
   "cell_type": "markdown",
   "id": "362d578f",
   "metadata": {},
   "source": [
    "# Defining the Equation"
   ]
  },
  {
   "cell_type": "code",
   "execution_count": null,
   "id": "8d257818",
   "metadata": {},
   "outputs": [],
   "source": [
    "function henonheilis(du,u,p,t)     \n",
    "    β,δ = p\n",
    "    du[1] = u[3]\n",
    "    du[2] = u[4]\n",
    "    du[3] = -u[1] - β*u[1]*u[2]\n",
    "    du[4] = -u[2] + δ*(-u[1]^2+u[2]^2)\n",
    "end "
   ]
  },
  {
   "cell_type": "code",
   "execution_count": null,
   "id": "387bb1ad",
   "metadata": {},
   "outputs": [],
   "source": [
    "u0 = [0.2;0.0;0.4;0.0];\n",
    "tspan = (0.0,500.0);\n",
    "p = [2.0,1.0];\n",
    "prob = ODEProblem(henonheilis,u0,tspan,p)\n",
    "sol=solve(prob,Vern9(),saveat=0.1);"
   ]
  },
  {
   "cell_type": "code",
   "execution_count": null,
   "id": "fece3e41",
   "metadata": {},
   "outputs": [],
   "source": [
    "dataset = Array(sol);"
   ]
  },
  {
   "cell_type": "code",
   "execution_count": null,
   "id": "05886ce2",
   "metadata": {},
   "outputs": [],
   "source": [
    "pinit = [1.90,0.85];"
   ]
  },
  {
   "cell_type": "markdown",
   "id": "05a6ff33",
   "metadata": {},
   "source": [
    "Our goal will be to find parameters that make the Henon-Heiles solution the one we had in the first part, so we define our loss as the squared distance from our real solution dataset = Array(sol) with parameters p given by β = 2, and δ = 1. "
   ]
  },
  {
   "cell_type": "code",
   "execution_count": null,
   "id": "214e6dfa",
   "metadata": {},
   "outputs": [],
   "source": [
    "function loss(p)\n",
    "    chn_prob = remake(prob, p = p)\n",
    "    chn_sol = solve(chn_prob,Vern9(),saveat = 0.1)\n",
    "    sum(abs2, Array(chn_sol) - dataset), chn_sol\n",
    "end"
   ]
  },
  {
   "cell_type": "markdown",
   "id": "bed9713a",
   "metadata": {},
   "source": [
    "In every step solutions which solved with given parameters p = [2.0,1.0] and the solution which is trained is going to shown in the graph. The key feature to do this Callbacks."
   ]
  },
  {
   "cell_type": "code",
   "execution_count": null,
   "id": "04e4bc9c",
   "metadata": {},
   "outputs": [],
   "source": [
    "function plot_callback(p,l,chn_sol)\n",
    "    chn_prob = remake(prob, p = p)\n",
    "    chn_sol = solve(chn_prob, Vern9(), saveat = 0.1)\n",
    "    dataset2 = Array(chn_sol)\n",
    "    p1 = plot(sol.t, dataset2'[:,1], xlim=(0,150)) \n",
    "    p2 = plot(sol.t, dataset2'[:,2], xlim=(0,150)) \n",
    "    p3 = plot(sol.t, dataset2'[:,3], xlim=(0,150))\n",
    "    p4 = plot(sol.t, dataset2'[:,4], xlim=(0,150)) \n",
    "    p5 = plot!(p1, sol.t,dataset'[:,1],xlim=(0,150))\n",
    "    p6 = plot!(p2, sol.t,dataset'[:,2],xlim=(0,150))\n",
    "    p7 = plot!(p3, sol.t,dataset'[:,3],xlim=(0,150))\n",
    "    p8 = plot!(p4, sol.t,dataset'[:,4],xlim=(0,150))\n",
    "    fig = plot!(p5, p6, p7, p8, layout = (2, 2), legend = false)\n",
    "    display(fig)\n",
    "    false\n",
    "end"
   ]
  },
  {
   "cell_type": "markdown",
   "id": "a5fddbd8",
   "metadata": {},
   "source": [
    "sciml_train allows defining a callback that will be called at each step of our training loop. It takes in the current parameter vector and the returns of the last call to the loss function. We will display the current loss and make a plot of the current situation.\n",
    "\n",
    "There different type of method to solve your problem, however we only use BFGS and ADAM for this problem. This methods can the problem types.\n",
    "\n",
    "Bascily, BFGS makes us converge quicker than using ADAM. Usually, ADAM is pretty good for the first iterations to get local optima but then it's better to change to BFGS to do the final steps."
   ]
  },
  {
   "cell_type": "code",
   "execution_count": null,
   "id": "a8ba4e18",
   "metadata": {},
   "outputs": [],
   "source": [
    "res = DiffEqFlux.sciml_train(loss, pinit, ADAM(0.01),cb=plot_callback, maxiters = 200)"
   ]
  },
  {
   "cell_type": "code",
   "execution_count": null,
   "id": "c4e43ced",
   "metadata": {},
   "outputs": [],
   "source": [
    "res2 = DiffEqFlux.sciml_train(loss,res.minimizer,BFGS(initial_stepnorm=0.02), cb=plot_callback,maxiters=300)"
   ]
  },
  {
   "cell_type": "markdown",
   "id": "e169c292",
   "metadata": {},
   "source": [
    "###  A closer look at problem solutions.\n",
    "\n",
    "The first one is solved with parameters that are found by the training algorithm. \n",
    "\n",
    "The other one is solved with the given parameters."
   ]
  },
  {
   "cell_type": "code",
   "execution_count": null,
   "id": "802a21c3",
   "metadata": {},
   "outputs": [],
   "source": [
    "u0 = [0.2;0.0;0.4;0.0];\n",
    "tspan = (0.0,500.0);\n",
    "p = res2.minimizer;\n",
    "prob = ODEProblem(henonheilis,u0,tspan,p)\n",
    "sol2 = solve(prob,Vern9(),saveat=0.1);\n",
    "dataset2 = Array(sol2)\n",
    "p1 = plot(sol2.t, dataset2'[:,1], xlim=(0,250)) \n",
    "p2 = plot(sol2.t, dataset2'[:,2], xlim=(0,250)) \n",
    "p3 = plot(sol2.t, dataset2'[:,3], xlim=(0,250))\n",
    "p4 = plot(sol2.t, dataset2'[:,4], xlim=(0,250))\n",
    "plot(p1, p2, p3, p4, layout = (2, 2), legend = false)"
   ]
  },
  {
   "cell_type": "code",
   "execution_count": null,
   "id": "7293ca4f",
   "metadata": {},
   "outputs": [],
   "source": [
    "plot(sol2, vars=(1,2))"
   ]
  },
  {
   "cell_type": "code",
   "execution_count": null,
   "id": "6105ed03",
   "metadata": {},
   "outputs": [],
   "source": [
    "u0 = [0.2;0.0;0.4;0.0];\n",
    "tspan = (0.0,500.0);\n",
    "p = [2.0,1.0];\n",
    "prob = ODEProblem(henonheilis,u0,tspan,p)\n",
    "sol = solve(prob,Vern9(),saveat=0.1);\n",
    "dataset = Array(sol)\n",
    "p1 = plot(sol.t, dataset'[:,1], xlim=(0,250))\n",
    "p2 = plot(sol.t, dataset'[:,2], xlim=(0,250)) \n",
    "p3 = plot(sol.t, dataset'[:,3], xlim=(0,250))\n",
    "p4 = plot(sol.t, dataset'[:,4], xlim=(0,250))\n",
    "plot(p1, p2, p3, p4, layout = (2, 2), legend = false)"
   ]
  },
  {
   "cell_type": "code",
   "execution_count": null,
   "id": "9b37ff72",
   "metadata": {},
   "outputs": [],
   "source": [
    "plot(sol, vars=(1,2))"
   ]
  }
 ],
 "metadata": {
  "kernelspec": {
   "display_name": "Python 3 (ipykernel)",
   "language": "python",
   "name": "python3"
  },
  "language_info": {
   "codemirror_mode": {
    "name": "ipython",
    "version": 3
   },
   "file_extension": ".py",
   "mimetype": "text/x-python",
   "name": "python",
   "nbconvert_exporter": "python",
   "pygments_lexer": "ipython3",
   "version": "3.9.12"
  }
 },
 "nbformat": 4,
 "nbformat_minor": 5
}
